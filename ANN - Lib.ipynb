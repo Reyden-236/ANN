{
 "cells": [
  {
   "cell_type": "code",
   "execution_count": 20,
   "id": "997df039",
   "metadata": {},
   "outputs": [],
   "source": [
    "import keras\n",
    "import pandas as pd \n",
    "import matplotlib.pyplot as plt\n",
    "import numpy as np\n",
    "import pandas as pd \n",
    "from sklearn.preprocessing import normalize "
   ]
  },
  {
   "cell_type": "code",
   "execution_count": 21,
   "id": "cc508b99",
   "metadata": {},
   "outputs": [
    {
     "name": "stdout",
     "output_type": "stream",
     "text": [
      "Describing the data:                 Id  SepalLengthCm  SepalWidthCm  PetalLengthCm  PetalWidthCm\n",
      "count  150.000000     150.000000    150.000000     150.000000    150.000000\n",
      "mean    75.500000       5.843333      3.054000       3.758667      1.198667\n",
      "std     43.445368       0.828066      0.433594       1.764420      0.763161\n",
      "min      1.000000       4.300000      2.000000       1.000000      0.100000\n",
      "25%     38.250000       5.100000      2.800000       1.600000      0.300000\n",
      "50%     75.500000       5.800000      3.000000       4.350000      1.300000\n",
      "75%    112.750000       6.400000      3.300000       5.100000      1.800000\n",
      "max    150.000000       7.900000      4.400000       6.900000      2.500000\n",
      "<class 'pandas.core.frame.DataFrame'>\n",
      "RangeIndex: 150 entries, 0 to 149\n",
      "Data columns (total 6 columns):\n",
      " #   Column         Non-Null Count  Dtype  \n",
      "---  ------         --------------  -----  \n",
      " 0   Id             150 non-null    int64  \n",
      " 1   SepalLengthCm  150 non-null    float64\n",
      " 2   SepalWidthCm   150 non-null    float64\n",
      " 3   PetalLengthCm  150 non-null    float64\n",
      " 4   PetalWidthCm   150 non-null    float64\n",
      " 5   Species        150 non-null    object \n",
      "dtypes: float64(4), int64(1), object(1)\n",
      "memory usage: 7.2+ KB\n",
      "Info of the data: None\n"
     ]
    }
   ],
   "source": [
    "data=pd.read_csv(\"Iris.csv\")\n",
    "print(\"Describing the data: \",data.describe())\n",
    "print(\"Info of the data:\",data.info())"
   ]
  },
  {
   "cell_type": "code",
   "execution_count": 22,
   "id": "04353a36",
   "metadata": {},
   "outputs": [
    {
     "name": "stdout",
     "output_type": "stream",
     "text": [
      "10 first samples of the dataset:    Id  SepalLengthCm  SepalWidthCm  PetalLengthCm  PetalWidthCm      Species\n",
      "0   1            5.1           3.5            1.4           0.2  Iris-setosa\n",
      "1   2            4.9           3.0            1.4           0.2  Iris-setosa\n",
      "2   3            4.7           3.2            1.3           0.2  Iris-setosa\n",
      "3   4            4.6           3.1            1.5           0.2  Iris-setosa\n",
      "4   5            5.0           3.6            1.4           0.2  Iris-setosa\n",
      "5   6            5.4           3.9            1.7           0.4  Iris-setosa\n",
      "6   7            4.6           3.4            1.4           0.3  Iris-setosa\n",
      "7   8            5.0           3.4            1.5           0.2  Iris-setosa\n",
      "8   9            4.4           2.9            1.4           0.2  Iris-setosa\n",
      "9  10            4.9           3.1            1.5           0.1  Iris-setosa\n",
      "10 last samples of the dataset:       Id  SepalLengthCm  SepalWidthCm  PetalLengthCm  PetalWidthCm  \\\n",
      "140  141            6.7           3.1            5.6           2.4   \n",
      "141  142            6.9           3.1            5.1           2.3   \n",
      "142  143            5.8           2.7            5.1           1.9   \n",
      "143  144            6.8           3.2            5.9           2.3   \n",
      "144  145            6.7           3.3            5.7           2.5   \n",
      "145  146            6.7           3.0            5.2           2.3   \n",
      "146  147            6.3           2.5            5.0           1.9   \n",
      "147  148            6.5           3.0            5.2           2.0   \n",
      "148  149            6.2           3.4            5.4           2.3   \n",
      "149  150            5.9           3.0            5.1           1.8   \n",
      "\n",
      "            Species  \n",
      "140  Iris-virginica  \n",
      "141  Iris-virginica  \n",
      "142  Iris-virginica  \n",
      "143  Iris-virginica  \n",
      "144  Iris-virginica  \n",
      "145  Iris-virginica  \n",
      "146  Iris-virginica  \n",
      "147  Iris-virginica  \n",
      "148  Iris-virginica  \n",
      "149  Iris-virginica  \n"
     ]
    }
   ],
   "source": [
    "print(\"10 first samples of the dataset:\",data.head(10))\n",
    "print(\"10 last samples of the dataset:\",data.tail(10))"
   ]
  },
  {
   "cell_type": "code",
   "execution_count": 23,
   "id": "45949f48",
   "metadata": {},
   "outputs": [
    {
     "name": "stdout",
     "output_type": "stream",
     "text": [
      "['Iris-setosa' 'Iris-versicolor' 'Iris-virginica']\n"
     ]
    }
   ],
   "source": [
    "print(data[\"Species\"].unique())"
   ]
  },
  {
   "cell_type": "code",
   "execution_count": 24,
   "id": "1966bb0d",
   "metadata": {},
   "outputs": [
    {
     "name": "stdout",
     "output_type": "stream",
     "text": [
      "   Id  SepalLengthCm  SepalWidthCm  PetalLengthCm  PetalWidthCm Species\n",
      "0   1            5.1           3.5            1.4           0.2       0\n",
      "1   2            4.9           3.0            1.4           0.2       0\n",
      "2   3            4.7           3.2            1.3           0.2       0\n",
      "3   4            4.6           3.1            1.5           0.2       0\n",
      "4   5            5.0           3.6            1.4           0.2       0\n"
     ]
    }
   ],
   "source": [
    "data.loc[data[\"Species\"]==\"Iris-setosa\",\"Species\"]=0\n",
    "data.loc[data[\"Species\"]==\"Iris-versicolor\",\"Species\"]=1\n",
    "data.loc[data[\"Species\"]==\"Iris-virginica\",\"Species\"]=2\n",
    "print(data.head())"
   ]
  },
  {
   "cell_type": "code",
   "execution_count": 25,
   "id": "863ba7a6",
   "metadata": {},
   "outputs": [
    {
     "name": "stdout",
     "output_type": "stream",
     "text": [
      "      Id  SepalLengthCm  SepalWidthCm  PetalLengthCm  PetalWidthCm Species\n",
      "77    78            6.7           3.0            5.0           1.7       1\n",
      "95    96            5.7           3.0            4.2           1.2       1\n",
      "90    91            5.5           2.6            4.4           1.2       1\n",
      "135  136            7.7           3.0            6.1           2.3       2\n",
      "39    40            5.1           3.4            1.5           0.2       0\n"
     ]
    }
   ],
   "source": [
    "data=data.iloc[np.random.permutation(len(data))]\n",
    "print(data.head())"
   ]
  },
  {
   "cell_type": "code",
   "execution_count": 26,
   "id": "f3d0180a",
   "metadata": {},
   "outputs": [
    {
     "name": "stdout",
     "output_type": "stream",
     "text": [
      "Shape of X (150, 4)\n",
      "Shape of y (150,)\n"
     ]
    }
   ],
   "source": [
    "X=data.iloc[:,1:5].values\n",
    "y=data.iloc[:,5].values\n",
    "\n",
    "print(\"Shape of X\",X.shape)\n",
    "print(\"Shape of y\",y.shape)"
   ]
  },
  {
   "cell_type": "code",
   "execution_count": 27,
   "id": "ee2c7cd8",
   "metadata": {},
   "outputs": [],
   "source": [
    "X_normalized=normalize(X,axis=0)"
   ]
  },
  {
   "cell_type": "code",
   "execution_count": 28,
   "id": "9f511254",
   "metadata": {},
   "outputs": [
    {
     "name": "stdout",
     "output_type": "stream",
     "text": [
      "Length of train set x: 120 y: 120\n",
      "Length of test set x: 30 y: 30\n"
     ]
    }
   ],
   "source": [
    "total_length=len(data)\n",
    "train_length=int(0.8*total_length)\n",
    "test_length=int(0.2*total_length)\n",
    "\n",
    "X_train=X_normalized[:train_length]\n",
    "X_test=X_normalized[train_length:]\n",
    "y_train=y[:train_length]\n",
    "y_test=y[train_length:]\n",
    "\n",
    "print(\"Length of train set x:\",X_train.shape[0],\"y:\",y_train.shape[0])\n",
    "print(\"Length of test set x:\",X_test.shape[0],\"y:\",y_test.shape[0])"
   ]
  },
  {
   "cell_type": "code",
   "execution_count": 29,
   "id": "b3efee37",
   "metadata": {},
   "outputs": [],
   "source": [
    "from keras.models import Sequential \n",
    "from keras.layers import Dense,Activation,Dropout \n",
    "from tensorflow.keras.layers import BatchNormalization\n",
    "from keras.utils import np_utils"
   ]
  },
  {
   "cell_type": "code",
   "execution_count": 30,
   "id": "2215f13c",
   "metadata": {},
   "outputs": [
    {
     "name": "stdout",
     "output_type": "stream",
     "text": [
      "Shape of y_train (120, 3)\n",
      "Shape of y_test (30, 3)\n"
     ]
    }
   ],
   "source": [
    "y_train=np_utils.to_categorical(y_train,num_classes=3)\n",
    "y_test=np_utils.to_categorical(y_test,num_classes=3)\n",
    "print(\"Shape of y_train\",y_train.shape)\n",
    "print(\"Shape of y_test\",y_test.shape)"
   ]
  },
  {
   "cell_type": "code",
   "execution_count": 31,
   "id": "668a52d9",
   "metadata": {},
   "outputs": [],
   "source": [
    "model=Sequential()\n",
    "model.add(Dense(1000,input_dim=4,activation='relu'))\n",
    "model.add(Dense(500,activation='relu'))\n",
    "model.add(Dense(300,activation='relu'))\n",
    "model.add(Dropout(0.2))\n",
    "model.add(Dense(3,activation='softmax'))\n",
    "model.compile(loss='categorical_crossentropy',optimizer='adam',metrics=['accuracy'])"
   ]
  },
  {
   "cell_type": "code",
   "execution_count": 32,
   "id": "73aed7a6",
   "metadata": {
    "scrolled": true
   },
   "outputs": [
    {
     "name": "stdout",
     "output_type": "stream",
     "text": [
      "Model: \"sequential_1\"\n",
      "_________________________________________________________________\n",
      " Layer (type)                Output Shape              Param #   \n",
      "=================================================================\n",
      " dense_4 (Dense)             (None, 1000)              5000      \n",
      "                                                                 \n",
      " dense_5 (Dense)             (None, 500)               500500    \n",
      "                                                                 \n",
      " dense_6 (Dense)             (None, 300)               150300    \n",
      "                                                                 \n",
      " dropout_1 (Dropout)         (None, 300)               0         \n",
      "                                                                 \n",
      " dense_7 (Dense)             (None, 3)                 903       \n",
      "                                                                 \n",
      "=================================================================\n",
      "Total params: 656,703\n",
      "Trainable params: 656,703\n",
      "Non-trainable params: 0\n",
      "_________________________________________________________________\n"
     ]
    }
   ],
   "source": [
    "model.summary()"
   ]
  },
  {
   "cell_type": "code",
   "execution_count": 33,
   "id": "32ff880a",
   "metadata": {},
   "outputs": [
    {
     "name": "stdout",
     "output_type": "stream",
     "text": [
      "Epoch 1/10\n",
      "6/6 [==============================] - 1s 52ms/step - loss: 1.0839 - accuracy: 0.3583 - val_loss: 1.0448 - val_accuracy: 0.7333\n",
      "Epoch 2/10\n",
      "6/6 [==============================] - 0s 10ms/step - loss: 1.0047 - accuracy: 0.6583 - val_loss: 0.9280 - val_accuracy: 0.7333\n",
      "Epoch 3/10\n",
      "6/6 [==============================] - 0s 8ms/step - loss: 0.8679 - accuracy: 0.6583 - val_loss: 0.7267 - val_accuracy: 0.7333\n",
      "Epoch 4/10\n",
      "6/6 [==============================] - 0s 9ms/step - loss: 0.6760 - accuracy: 0.7083 - val_loss: 0.5124 - val_accuracy: 0.9667\n",
      "Epoch 5/10\n",
      "6/6 [==============================] - 0s 8ms/step - loss: 0.4851 - accuracy: 0.9250 - val_loss: 0.3326 - val_accuracy: 1.0000\n",
      "Epoch 6/10\n",
      "6/6 [==============================] - 0s 9ms/step - loss: 0.3323 - accuracy: 0.9333 - val_loss: 0.2206 - val_accuracy: 1.0000\n",
      "Epoch 7/10\n",
      "6/6 [==============================] - 0s 8ms/step - loss: 0.2519 - accuracy: 0.9500 - val_loss: 0.2389 - val_accuracy: 0.9333\n",
      "Epoch 8/10\n",
      "6/6 [==============================] - 0s 10ms/step - loss: 0.2064 - accuracy: 0.9250 - val_loss: 0.1680 - val_accuracy: 0.9333\n",
      "Epoch 9/10\n",
      "6/6 [==============================] - 0s 10ms/step - loss: 0.2847 - accuracy: 0.8583 - val_loss: 0.1841 - val_accuracy: 0.8667\n",
      "Epoch 10/10\n",
      "6/6 [==============================] - 0s 9ms/step - loss: 0.2048 - accuracy: 0.8833 - val_loss: 0.1839 - val_accuracy: 0.9333\n"
     ]
    },
    {
     "data": {
      "text/plain": [
       "<keras.callbacks.History at 0x1cfdfaa6350>"
      ]
     },
     "execution_count": 33,
     "metadata": {},
     "output_type": "execute_result"
    }
   ],
   "source": [
    "model.fit(X_train,y_train,validation_data=(X_test,y_test),batch_size=20,epochs=10,verbose=1)"
   ]
  },
  {
   "cell_type": "code",
   "execution_count": 35,
   "id": "75601576",
   "metadata": {},
   "outputs": [
    {
     "name": "stdout",
     "output_type": "stream",
     "text": [
      "1/1 [==============================] - 0s 12ms/step\n",
      "Accuracy of the dataset 93.33333333333333\n"
     ]
    }
   ],
   "source": [
    "prediction=model.predict(X_test)\n",
    "length=len(prediction)\n",
    "y_label=np.argmax(y_test,axis=1)\n",
    "predict_label=np.argmax(prediction,axis=1)\n",
    "\n",
    "accuracy=np.sum(y_label==predict_label)/length * 100 \n",
    "print(\"Accuracy of the dataset\",accuracy )\n",
    "\n"
   ]
  },
  {
   "cell_type": "code",
   "execution_count": null,
   "id": "ca5efd0d",
   "metadata": {},
   "outputs": [],
   "source": []
  },
  {
   "cell_type": "code",
   "execution_count": null,
   "id": "44d06863",
   "metadata": {},
   "outputs": [],
   "source": []
  },
  {
   "cell_type": "code",
   "execution_count": null,
   "id": "a7c36fd8",
   "metadata": {},
   "outputs": [],
   "source": []
  }
 ],
 "metadata": {
  "kernelspec": {
   "display_name": "Python 3 (ipykernel)",
   "language": "python",
   "name": "python3"
  },
  "language_info": {
   "codemirror_mode": {
    "name": "ipython",
    "version": 3
   },
   "file_extension": ".py",
   "mimetype": "text/x-python",
   "name": "python",
   "nbconvert_exporter": "python",
   "pygments_lexer": "ipython3",
   "version": "3.10.4"
  }
 },
 "nbformat": 4,
 "nbformat_minor": 5
}
